{
 "cells": [
  {
   "cell_type": "markdown",
   "metadata": {},
   "source": [
    "# Effective movie recommendation system \n",
    "## (also solves the cold-start problem)"
   ]
  },
  {
   "cell_type": "code",
   "execution_count": 1,
   "metadata": {},
   "outputs": [],
   "source": [
    "%load_ext lab_black"
   ]
  },
  {
   "cell_type": "code",
   "execution_count": 2,
   "metadata": {},
   "outputs": [],
   "source": [
    "import turicreate\n",
    "import pandas as pd\n",
    "import numpy as np"
   ]
  },
  {
   "cell_type": "code",
   "execution_count": 3,
   "metadata": {},
   "outputs": [],
   "source": [
    "df = pd.read_csv(\"df.csv\")"
   ]
  },
  {
   "cell_type": "code",
   "execution_count": 4,
   "metadata": {},
   "outputs": [
    {
     "data": {
      "text/html": [
       "<div>\n",
       "<style scoped>\n",
       "    .dataframe tbody tr th:only-of-type {\n",
       "        vertical-align: middle;\n",
       "    }\n",
       "\n",
       "    .dataframe tbody tr th {\n",
       "        vertical-align: top;\n",
       "    }\n",
       "\n",
       "    .dataframe thead th {\n",
       "        text-align: right;\n",
       "    }\n",
       "</style>\n",
       "<table border=\"1\" class=\"dataframe\">\n",
       "  <thead>\n",
       "    <tr style=\"text-align: right;\">\n",
       "      <th></th>\n",
       "      <th>Cust_Id</th>\n",
       "      <th>Rating</th>\n",
       "      <th>Movie_Id</th>\n",
       "    </tr>\n",
       "  </thead>\n",
       "  <tbody>\n",
       "    <tr>\n",
       "      <th>0</th>\n",
       "      <td>712664</td>\n",
       "      <td>5.0</td>\n",
       "      <td>3</td>\n",
       "    </tr>\n",
       "    <tr>\n",
       "      <th>1</th>\n",
       "      <td>1331154</td>\n",
       "      <td>4.0</td>\n",
       "      <td>3</td>\n",
       "    </tr>\n",
       "    <tr>\n",
       "      <th>2</th>\n",
       "      <td>2632461</td>\n",
       "      <td>3.0</td>\n",
       "      <td>3</td>\n",
       "    </tr>\n",
       "    <tr>\n",
       "      <th>3</th>\n",
       "      <td>44937</td>\n",
       "      <td>5.0</td>\n",
       "      <td>3</td>\n",
       "    </tr>\n",
       "    <tr>\n",
       "      <th>4</th>\n",
       "      <td>656399</td>\n",
       "      <td>4.0</td>\n",
       "      <td>3</td>\n",
       "    </tr>\n",
       "  </tbody>\n",
       "</table>\n",
       "</div>"
      ],
      "text/plain": [
       "   Cust_Id  Rating  Movie_Id\n",
       "0   712664     5.0         3\n",
       "1  1331154     4.0         3\n",
       "2  2632461     3.0         3\n",
       "3    44937     5.0         3\n",
       "4   656399     4.0         3"
      ]
     },
     "execution_count": 4,
     "metadata": {},
     "output_type": "execute_result"
    }
   ],
   "source": [
    "# remove unnamed column\n",
    "del df[\"Unnamed: 0\"]\n",
    "df.head(5)"
   ]
  },
  {
   "cell_type": "code",
   "execution_count": 5,
   "metadata": {},
   "outputs": [],
   "source": [
    "# Recommendation with Collaborative Filtering (memory-based algorithm, it recommends items based on previous ratings)\n",
    "# User-User collaborative filtering (users having higher correlation will tend to be similar.)\n",
    "# Item-Item collaborative filtering (item/movies that are similar to each other are recommended)"
   ]
  },
  {
   "cell_type": "code",
   "execution_count": 6,
   "metadata": {},
   "outputs": [],
   "source": [
    "df_sf = turicreate.SFrame(df)"
   ]
  },
  {
   "cell_type": "code",
   "execution_count": 7,
   "metadata": {},
   "outputs": [
    {
     "data": {
      "text/html": [
       "<pre>Preparing data set.</pre>"
      ],
      "text/plain": [
       "Preparing data set."
      ]
     },
     "metadata": {},
     "output_type": "display_data"
    },
    {
     "data": {
      "text/html": [
       "<pre>    Data has 17337458 observations with 143458 users and 1350 items.</pre>"
      ],
      "text/plain": [
       "    Data has 17337458 observations with 143458 users and 1350 items."
      ]
     },
     "metadata": {},
     "output_type": "display_data"
    },
    {
     "data": {
      "text/html": [
       "<pre>    Data prepared in: 12.5753s</pre>"
      ],
      "text/plain": [
       "    Data prepared in: 12.5753s"
      ]
     },
     "metadata": {},
     "output_type": "display_data"
    },
    {
     "data": {
      "text/html": [
       "<pre>17337458 observations to process; with 1350 unique items.</pre>"
      ],
      "text/plain": [
       "17337458 observations to process; with 1350 unique items."
      ]
     },
     "metadata": {},
     "output_type": "display_data"
    }
   ],
   "source": [
    "# User-User: recommend top 5 movies based on the most popular choices (all the users receive the same recommendations)\n",
    "# Training the model\n",
    "popularity_model = turicreate.popularity_recommender.create(\n",
    "    df_sf, user_id=\"Cust_Id\", item_id=\"Movie_Id\", target=\"Rating\"\n",
    ")"
   ]
  },
  {
   "cell_type": "code",
   "execution_count": 8,
   "metadata": {},
   "outputs": [
    {
     "name": "stdout",
     "output_type": "stream",
     "text": [
      "+---------+----------+-------------------+------+\n",
      "| Cust_Id | Movie_Id |       score       | rank |\n",
      "+---------+----------+-------------------+------+\n",
      "|  712664 |   3456   | 4.665432098765432 |  1   |\n",
      "|  712664 |   2102   | 4.589824034920202 |  2   |\n",
      "|  712664 |   3444   | 4.520766378244747 |  3   |\n",
      "|  712664 |   1476   | 4.461601211979955 |  4   |\n",
      "|  712664 |   4238   | 4.457773512476008 |  5   |\n",
      "| 1331154 |   3456   | 4.665432098765432 |  1   |\n",
      "| 1331154 |   2102   | 4.589824034920202 |  2   |\n",
      "| 1331154 |   3444   | 4.520766378244747 |  3   |\n",
      "| 1331154 |   4238   | 4.457773512476008 |  4   |\n",
      "| 1331154 |   2568   | 4.456026058631922 |  5   |\n",
      "| 2632461 |   3456   | 4.665432098765432 |  1   |\n",
      "| 2632461 |   2102   | 4.589824034920202 |  2   |\n",
      "| 2632461 |   3444   | 4.520766378244747 |  3   |\n",
      "| 2632461 |   1476   | 4.461601211979955 |  4   |\n",
      "| 2632461 |   4238   | 4.457773512476008 |  5   |\n",
      "+---------+----------+-------------------+------+\n",
      "[15 rows x 4 columns]\n",
      "\n"
     ]
    }
   ],
   "source": [
    "# Making recommendations (example) - print top 5 recommendations for the first 3 users\n",
    "popularity_recomm = popularity_model.recommend(users=list(df_sf[\"Cust_Id\"][0:3]), k=5)\n",
    "popularity_recomm.print_rows(num_rows=15)"
   ]
  },
  {
   "cell_type": "code",
   "execution_count": 9,
   "metadata": {},
   "outputs": [
    {
     "data": {
      "text/html": [
       "<pre>Preparing data set.</pre>"
      ],
      "text/plain": [
       "Preparing data set."
      ]
     },
     "metadata": {},
     "output_type": "display_data"
    },
    {
     "data": {
      "text/html": [
       "<pre>    Data has 17337458 observations with 143458 users and 1350 items.</pre>"
      ],
      "text/plain": [
       "    Data has 17337458 observations with 143458 users and 1350 items."
      ]
     },
     "metadata": {},
     "output_type": "display_data"
    },
    {
     "data": {
      "text/html": [
       "<pre>    Data prepared in: 13.0993s</pre>"
      ],
      "text/plain": [
       "    Data prepared in: 13.0993s"
      ]
     },
     "metadata": {},
     "output_type": "display_data"
    },
    {
     "data": {
      "text/html": [
       "<pre>Training model from provided data.</pre>"
      ],
      "text/plain": [
       "Training model from provided data."
      ]
     },
     "metadata": {},
     "output_type": "display_data"
    },
    {
     "data": {
      "text/html": [
       "<pre>Gathering per-item and per-user statistics.</pre>"
      ],
      "text/plain": [
       "Gathering per-item and per-user statistics."
      ]
     },
     "metadata": {},
     "output_type": "display_data"
    },
    {
     "data": {
      "text/html": [
       "<pre>+--------------------------------+------------+</pre>"
      ],
      "text/plain": [
       "+--------------------------------+------------+"
      ]
     },
     "metadata": {},
     "output_type": "display_data"
    },
    {
     "data": {
      "text/html": [
       "<pre>| Elapsed Time (Item Statistics) | % Complete |</pre>"
      ],
      "text/plain": [
       "| Elapsed Time (Item Statistics) | % Complete |"
      ]
     },
     "metadata": {},
     "output_type": "display_data"
    },
    {
     "data": {
      "text/html": [
       "<pre>+--------------------------------+------------+</pre>"
      ],
      "text/plain": [
       "+--------------------------------+------------+"
      ]
     },
     "metadata": {},
     "output_type": "display_data"
    },
    {
     "data": {
      "text/html": [
       "<pre>| 9.975ms                        | 0.5        |</pre>"
      ],
      "text/plain": [
       "| 9.975ms                        | 0.5        |"
      ]
     },
     "metadata": {},
     "output_type": "display_data"
    },
    {
     "data": {
      "text/html": [
       "<pre>| 542.983ms                      | 100        |</pre>"
      ],
      "text/plain": [
       "| 542.983ms                      | 100        |"
      ]
     },
     "metadata": {},
     "output_type": "display_data"
    },
    {
     "data": {
      "text/html": [
       "<pre>+--------------------------------+------------+</pre>"
      ],
      "text/plain": [
       "+--------------------------------+------------+"
      ]
     },
     "metadata": {},
     "output_type": "display_data"
    },
    {
     "data": {
      "text/html": [
       "<pre>Setting up lookup tables.</pre>"
      ],
      "text/plain": [
       "Setting up lookup tables."
      ]
     },
     "metadata": {},
     "output_type": "display_data"
    },
    {
     "data": {
      "text/html": [
       "<pre>Processing data in one pass using dense lookup tables.</pre>"
      ],
      "text/plain": [
       "Processing data in one pass using dense lookup tables."
      ]
     },
     "metadata": {},
     "output_type": "display_data"
    },
    {
     "data": {
      "text/html": [
       "<pre>+-------------------------------------+------------------+-----------------+</pre>"
      ],
      "text/plain": [
       "+-------------------------------------+------------------+-----------------+"
      ]
     },
     "metadata": {},
     "output_type": "display_data"
    },
    {
     "data": {
      "text/html": [
       "<pre>| Elapsed Time (Constructing Lookups) | Total % Complete | Items Processed |</pre>"
      ],
      "text/plain": [
       "| Elapsed Time (Constructing Lookups) | Total % Complete | Items Processed |"
      ]
     },
     "metadata": {},
     "output_type": "display_data"
    },
    {
     "data": {
      "text/html": [
       "<pre>+-------------------------------------+------------------+-----------------+</pre>"
      ],
      "text/plain": [
       "+-------------------------------------+------------------+-----------------+"
      ]
     },
     "metadata": {},
     "output_type": "display_data"
    },
    {
     "data": {
      "text/html": [
       "<pre>| 557.141ms                           | 0                | 0               |</pre>"
      ],
      "text/plain": [
       "| 557.141ms                           | 0                | 0               |"
      ]
     },
     "metadata": {},
     "output_type": "display_data"
    },
    {
     "data": {
      "text/html": [
       "<pre>| 3.56s                               | 33.5             | 452             |</pre>"
      ],
      "text/plain": [
       "| 3.56s                               | 33.5             | 452             |"
      ]
     },
     "metadata": {},
     "output_type": "display_data"
    },
    {
     "data": {
      "text/html": [
       "<pre>| 6.56s                               | 65.25            | 882             |</pre>"
      ],
      "text/plain": [
       "| 6.56s                               | 65.25            | 882             |"
      ]
     },
     "metadata": {},
     "output_type": "display_data"
    },
    {
     "data": {
      "text/html": [
       "<pre>| 9.57s                               | 93.25            | 1259            |</pre>"
      ],
      "text/plain": [
       "| 9.57s                               | 93.25            | 1259            |"
      ]
     },
     "metadata": {},
     "output_type": "display_data"
    },
    {
     "data": {
      "text/html": [
       "<pre>| 9.95s                               | 100              | 1350            |</pre>"
      ],
      "text/plain": [
       "| 9.95s                               | 100              | 1350            |"
      ]
     },
     "metadata": {},
     "output_type": "display_data"
    },
    {
     "data": {
      "text/html": [
       "<pre>+-------------------------------------+------------------+-----------------+</pre>"
      ],
      "text/plain": [
       "+-------------------------------------+------------------+-----------------+"
      ]
     },
     "metadata": {},
     "output_type": "display_data"
    },
    {
     "data": {
      "text/html": [
       "<pre>Finalizing lookup tables.</pre>"
      ],
      "text/plain": [
       "Finalizing lookup tables."
      ]
     },
     "metadata": {},
     "output_type": "display_data"
    },
    {
     "data": {
      "text/html": [
       "<pre>Generating candidate set for working with new users.</pre>"
      ],
      "text/plain": [
       "Generating candidate set for working with new users."
      ]
     },
     "metadata": {},
     "output_type": "display_data"
    },
    {
     "data": {
      "text/html": [
       "<pre>Finished training in 11.5963s</pre>"
      ],
      "text/plain": [
       "Finished training in 11.5963s"
      ]
     },
     "metadata": {},
     "output_type": "display_data"
    }
   ],
   "source": [
    "# Item-Item - recommend movies based on past personal preferences (different users will have a different set of recommendations - personalized recommendations)\n",
    "# Training the model\n",
    "item_sim_model = turicreate.item_similarity_recommender.create(\n",
    "    df_sf,\n",
    "    user_id=\"Cust_Id\",\n",
    "    item_id=\"Movie_Id\",\n",
    "    target=\"Rating\",\n",
    "    similarity_type=\"cosine\",\n",
    ")"
   ]
  },
  {
   "cell_type": "code",
   "execution_count": 10,
   "metadata": {},
   "outputs": [
    {
     "name": "stdout",
     "output_type": "stream",
     "text": [
      "+---------+----------+---------------------+------+\n",
      "| Cust_Id | Movie_Id |        score        | rank |\n",
      "+---------+----------+---------------------+------+\n",
      "|  712664 |   3962   |  0.6944930362896841 |  1   |\n",
      "|  712664 |   3938   |  0.6064882626950415 |  2   |\n",
      "|  712664 |   3427   |  0.556006958575848  |  3   |\n",
      "|  712664 |   2152   |  0.5285343614106621 |  4   |\n",
      "|  712664 |   2660   | 0.43074481734812586 |  5   |\n",
      "| 1331154 |   3860   |  1.2493619265326534 |  1   |\n",
      "| 1331154 |   1962   |  1.0075475355707497 |  2   |\n",
      "| 1331154 |   1202   |  0.6959467910858522 |  3   |\n",
      "| 1331154 |   2391   |  0.6806661773876972 |  4   |\n",
      "| 1331154 |   4330   |  0.5497861219697209 |  5   |\n",
      "| 2632461 |   4306   |  1.7303073085271394 |  1   |\n",
      "| 2632461 |   2862   |  1.7176445653805366 |  2   |\n",
      "| 2632461 |   2452   |  1.675116940186574  |  3   |\n",
      "| 2632461 |   2782   |  1.614187824038359  |  4   |\n",
      "| 2632461 |   3938   |  1.5115973284611335 |  5   |\n",
      "+---------+----------+---------------------+------+\n",
      "[15 rows x 4 columns]\n",
      "\n"
     ]
    }
   ],
   "source": [
    "# Making recommendations (example) - print top 5 recommendations for the first 3 users\n",
    "item_sim_recomm = item_sim_model.recommend(users=list(df_sf[\"Cust_Id\"][0:3]), k=5)\n",
    "item_sim_recomm.print_rows(num_rows=15)"
   ]
  },
  {
   "cell_type": "code",
   "execution_count": 11,
   "metadata": {},
   "outputs": [
    {
     "name": "stdout",
     "output_type": "stream",
     "text": [
      "The user 12 is new\n"
     ]
    },
    {
     "data": {
      "text/html": [
       "<div style=\"max-height:1000px;max-width:1500px;overflow:auto;\"><table frame=\"box\" rules=\"cols\">\n",
       "    <tr>\n",
       "        <th style=\"padding-left: 1em; padding-right: 1em; text-align: center\">Cust_Id</th>\n",
       "        <th style=\"padding-left: 1em; padding-right: 1em; text-align: center\">Movie_Id</th>\n",
       "        <th style=\"padding-left: 1em; padding-right: 1em; text-align: center\">score</th>\n",
       "        <th style=\"padding-left: 1em; padding-right: 1em; text-align: center\">rank</th>\n",
       "    </tr>\n",
       "    <tr>\n",
       "        <td style=\"padding-left: 1em; padding-right: 1em; text-align: center; vertical-align: top\">12</td>\n",
       "        <td style=\"padding-left: 1em; padding-right: 1em; text-align: center; vertical-align: top\">3456</td>\n",
       "        <td style=\"padding-left: 1em; padding-right: 1em; text-align: center; vertical-align: top\">4.665432098765432</td>\n",
       "        <td style=\"padding-left: 1em; padding-right: 1em; text-align: center; vertical-align: top\">1</td>\n",
       "    </tr>\n",
       "    <tr>\n",
       "        <td style=\"padding-left: 1em; padding-right: 1em; text-align: center; vertical-align: top\">12</td>\n",
       "        <td style=\"padding-left: 1em; padding-right: 1em; text-align: center; vertical-align: top\">2102</td>\n",
       "        <td style=\"padding-left: 1em; padding-right: 1em; text-align: center; vertical-align: top\">4.589824034920202</td>\n",
       "        <td style=\"padding-left: 1em; padding-right: 1em; text-align: center; vertical-align: top\">2</td>\n",
       "    </tr>\n",
       "    <tr>\n",
       "        <td style=\"padding-left: 1em; padding-right: 1em; text-align: center; vertical-align: top\">12</td>\n",
       "        <td style=\"padding-left: 1em; padding-right: 1em; text-align: center; vertical-align: top\">3444</td>\n",
       "        <td style=\"padding-left: 1em; padding-right: 1em; text-align: center; vertical-align: top\">4.520766378244747</td>\n",
       "        <td style=\"padding-left: 1em; padding-right: 1em; text-align: center; vertical-align: top\">3</td>\n",
       "    </tr>\n",
       "    <tr>\n",
       "        <td style=\"padding-left: 1em; padding-right: 1em; text-align: center; vertical-align: top\">12</td>\n",
       "        <td style=\"padding-left: 1em; padding-right: 1em; text-align: center; vertical-align: top\">1476</td>\n",
       "        <td style=\"padding-left: 1em; padding-right: 1em; text-align: center; vertical-align: top\">4.461601211979955</td>\n",
       "        <td style=\"padding-left: 1em; padding-right: 1em; text-align: center; vertical-align: top\">4</td>\n",
       "    </tr>\n",
       "    <tr>\n",
       "        <td style=\"padding-left: 1em; padding-right: 1em; text-align: center; vertical-align: top\">12</td>\n",
       "        <td style=\"padding-left: 1em; padding-right: 1em; text-align: center; vertical-align: top\">4238</td>\n",
       "        <td style=\"padding-left: 1em; padding-right: 1em; text-align: center; vertical-align: top\">4.457773512476008</td>\n",
       "        <td style=\"padding-left: 1em; padding-right: 1em; text-align: center; vertical-align: top\">5</td>\n",
       "    </tr>\n",
       "</table>\n",
       "[5 rows x 4 columns]<br/>\n",
       "</div>"
      ],
      "text/plain": [
       "Columns:\n",
       "\tCust_Id\tint\n",
       "\tMovie_Id\tint\n",
       "\tscore\tfloat\n",
       "\trank\tint\n",
       "\n",
       "Rows: 5\n",
       "\n",
       "Data:\n",
       "+---------+----------+-------------------+------+\n",
       "| Cust_Id | Movie_Id |       score       | rank |\n",
       "+---------+----------+-------------------+------+\n",
       "|    12   |   3456   | 4.665432098765432 |  1   |\n",
       "|    12   |   2102   | 4.589824034920202 |  2   |\n",
       "|    12   |   3444   | 4.520766378244747 |  3   |\n",
       "|    12   |   1476   | 4.461601211979955 |  4   |\n",
       "|    12   |   4238   | 4.457773512476008 |  5   |\n",
       "+---------+----------+-------------------+------+\n",
       "[5 rows x 4 columns]"
      ]
     },
     "execution_count": 11,
     "metadata": {},
     "output_type": "execute_result"
    }
   ],
   "source": [
    "# user Cold Start - Making recommendations for a new user\n",
    "# (it is not possible to provide personalized recommendations for a new user)\n",
    "\n",
    "# If the model has never seen the user,\n",
    "# then it defaults to recommending popular items\n",
    "if sum(df_sf[\"Cust_Id\"] == 12) == 0:\n",
    "    print(\"The user 12 is new\")\n",
    "popularity_model.recommend(users=[12], k=5)"
   ]
  },
  {
   "cell_type": "code",
   "execution_count": 12,
   "metadata": {},
   "outputs": [
    {
     "name": "stdout",
     "output_type": "stream",
     "text": [
      "The item 12 is new\n"
     ]
    },
    {
     "data": {
      "text/html": [
       "<div style=\"max-height:1000px;max-width:1500px;overflow:auto;\"><table frame=\"box\" rules=\"cols\">\n",
       "    <tr>\n",
       "        <th style=\"padding-left: 1em; padding-right: 1em; text-align: center\">Cust_Id</th>\n",
       "        <th style=\"padding-left: 1em; padding-right: 1em; text-align: center\">Movie_Id</th>\n",
       "        <th style=\"padding-left: 1em; padding-right: 1em; text-align: center\">score</th>\n",
       "        <th style=\"padding-left: 1em; padding-right: 1em; text-align: center\">rank</th>\n",
       "    </tr>\n",
       "    <tr>\n",
       "        <td style=\"padding-left: 1em; padding-right: 1em; text-align: center; vertical-align: top\">712664</td>\n",
       "        <td style=\"padding-left: 1em; padding-right: 1em; text-align: center; vertical-align: top\">12</td>\n",
       "        <td style=\"padding-left: 1em; padding-right: 1em; text-align: center; vertical-align: top\">0.0</td>\n",
       "        <td style=\"padding-left: 1em; padding-right: 1em; text-align: center; vertical-align: top\">1</td>\n",
       "    </tr>\n",
       "    <tr>\n",
       "        <td style=\"padding-left: 1em; padding-right: 1em; text-align: center; vertical-align: top\">1331154</td>\n",
       "        <td style=\"padding-left: 1em; padding-right: 1em; text-align: center; vertical-align: top\">12</td>\n",
       "        <td style=\"padding-left: 1em; padding-right: 1em; text-align: center; vertical-align: top\">0.0</td>\n",
       "        <td style=\"padding-left: 1em; padding-right: 1em; text-align: center; vertical-align: top\">1</td>\n",
       "    </tr>\n",
       "    <tr>\n",
       "        <td style=\"padding-left: 1em; padding-right: 1em; text-align: center; vertical-align: top\">2632461</td>\n",
       "        <td style=\"padding-left: 1em; padding-right: 1em; text-align: center; vertical-align: top\">12</td>\n",
       "        <td style=\"padding-left: 1em; padding-right: 1em; text-align: center; vertical-align: top\">0.0</td>\n",
       "        <td style=\"padding-left: 1em; padding-right: 1em; text-align: center; vertical-align: top\">1</td>\n",
       "    </tr>\n",
       "</table>\n",
       "[3 rows x 4 columns]<br/>\n",
       "</div>"
      ],
      "text/plain": [
       "Columns:\n",
       "\tCust_Id\tint\n",
       "\tMovie_Id\tint\n",
       "\tscore\tfloat\n",
       "\trank\tint\n",
       "\n",
       "Rows: 3\n",
       "\n",
       "Data:\n",
       "+---------+----------+-------+------+\n",
       "| Cust_Id | Movie_Id | score | rank |\n",
       "+---------+----------+-------+------+\n",
       "|  712664 |    12    |  0.0  |  1   |\n",
       "| 1331154 |    12    |  0.0  |  1   |\n",
       "| 2632461 |    12    |  0.0  |  1   |\n",
       "+---------+----------+-------+------+\n",
       "[3 rows x 4 columns]"
      ]
     },
     "execution_count": 12,
     "metadata": {},
     "output_type": "execute_result"
    }
   ],
   "source": [
    "# item Cold Start - Making recommendations for a new item\n",
    "\n",
    "# If the model has never seen the item,\n",
    "# then it defaults to score = 0 (which is the minimum)\n",
    "if sum(df_sf[\"Movie_Id\"] == 12) == 0:\n",
    "    print(\"The item 12 is new\")\n",
    "item_sim_model.recommend(users=list(df_sf[\"Cust_Id\"][0:3]), items=[12])"
   ]
  }
 ],
 "metadata": {
  "kernelspec": {
   "display_name": "Python 3",
   "language": "python",
   "name": "python3"
  },
  "language_info": {
   "codemirror_mode": {
    "name": "ipython",
    "version": 3
   },
   "file_extension": ".py",
   "mimetype": "text/x-python",
   "name": "python",
   "nbconvert_exporter": "python",
   "pygments_lexer": "ipython3",
   "version": "3.7.6"
  }
 },
 "nbformat": 4,
 "nbformat_minor": 2
}
